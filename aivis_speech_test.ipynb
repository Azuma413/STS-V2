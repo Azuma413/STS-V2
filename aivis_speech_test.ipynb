{
 "cells": [
  {
   "cell_type": "code",
   "execution_count": null,
   "metadata": {},
   "outputs": [
    {
     "name": "stdout",
     "output_type": "stream",
     "text": [
      "4.748401165008545\n",
      "generate_wav: 4.748\n"
     ]
    }
   ],
   "source": [
    "import json\n",
    "import requests\n",
    "import simpleaudio\n",
    "import time\n",
    "import wave\n",
    "import io\n",
    "\n",
    "def play_wav_safely(wav_data):\n",
    "    \"\"\"\n",
    "    WAVファイルを途切れることなく再生する関数\n",
    "    \"\"\"\n",
    "    # 先頭に無音データを追加\n",
    "    with wave.open(io.BytesIO(wav_data), 'rb') as wave_file:\n",
    "        n_channels = wave_file.getnchannels()\n",
    "        sampwidth = wave_file.getsampwidth()\n",
    "        framerate = wave_file.getframerate()\n",
    "        n_frames = wave_file.getnframes()\n",
    "        wave_data = wave_file.readframes(n_frames)\n",
    "    sec = 0.5\n",
    "    padding_frames = int(sec * framerate)\n",
    "    padding = b'\\x00' * (padding_frames * n_channels * sampwidth)\n",
    "    padded_data = padding + wave_data\n",
    "    wave_obj = simpleaudio.WaveObject(padded_data, n_channels, sampwidth, framerate)\n",
    "    play_obj = wave_obj.play()\n",
    "    return play_obj\n",
    "\n",
    "def generate_wav(text, speaker=1):\n",
    "    start_time = time.time()\n",
    "    host = 'localhost'\n",
    "    port = 10101\n",
    "    params = (\n",
    "        ('text', text),\n",
    "        ('speaker', speaker),\n",
    "    )\n",
    "    response1 = requests.post(\n",
    "        f'http://{host}:{port}/audio_query',\n",
    "        params=params\n",
    "    )\n",
    "    if response1.status_code != 200:\n",
    "        print('get audio_query failed')\n",
    "        print(response1)\n",
    "        return\n",
    "    headers = {\n",
    "        'Content-Type': 'application/json',\n",
    "        'accept': 'audio/wav'}\n",
    "    response2 = requests.post(\n",
    "        f'http://{host}:{port}/synthesis',\n",
    "        headers=headers,\n",
    "        params=params,\n",
    "        data=json.dumps(response1.json())\n",
    "    )\n",
    "    if response2.status_code != 200:\n",
    "        print('get synthesis failed')\n",
    "        print(response2)\n",
    "        return\n",
    "    print(time.time() - start_time)\n",
    "    play_obj = play_wav_safely(response2.content)\n",
    "    play_obj.wait_done()\n",
    "    # path = \"test.wav\"\n",
    "    # with open(path, \"wb\") as f:\n",
    "    #     f.write(response2.content)\n",
    "    # print(f'generate_wav: {time.time() - start_time:.3f}')\n",
    "    # wav_obj = simpleaudio.WaveObject.from_wave_file(path)\n",
    "    # play_obj = wav_obj.play()\n",
    "    # play_obj.wait_done()\n",
    "\n",
    "def get_speaker_id():\n",
    "    response = requests.get('http://localhost:10101/speakers')\n",
    "    if response.status_code != 200:\n",
    "        print('get speakers failed')\n",
    "        print(response)\n",
    "        return\n",
    "    else:\n",
    "        ids = []\n",
    "        for speaker in response.json():\n",
    "            print(speaker['name'])\n",
    "            for style in speaker['styles']:\n",
    "                print('    ' + style['name'] + ' ' + str(style['id']))\n",
    "                ids.append(style['id'])\n",
    "        return ids\n",
    "\n",
    "if __name__ == '__main__':\n",
    "    text = '貴方には一生縁のない話よ。興味を持たなくていいわ。'\n",
    "    # ids = get_speaker_id()\n",
    "    generate_wav(text, 888753765) # ids[5])"
   ]
  },
  {
   "cell_type": "code",
   "execution_count": 6,
   "metadata": {},
   "outputs": [
    {
     "name": "stdout",
     "output_type": "stream",
     "text": [
      "[1, 2, 3, 4, 5]\n",
      "[1, 2, 5]\n"
     ]
    }
   ],
   "source": [
    "nums = [1, 2, 3, 4, 5]\n",
    "print(nums)\n",
    "del nums[2:4]\n",
    "print(nums)"
   ]
  }
 ],
 "metadata": {
  "kernelspec": {
   "display_name": "rl_env",
   "language": "python",
   "name": "python3"
  },
  "language_info": {
   "codemirror_mode": {
    "name": "ipython",
    "version": 3
   },
   "file_extension": ".py",
   "mimetype": "text/x-python",
   "name": "python",
   "nbconvert_exporter": "python",
   "pygments_lexer": "ipython3",
   "version": "3.10.13"
  }
 },
 "nbformat": 4,
 "nbformat_minor": 2
}
